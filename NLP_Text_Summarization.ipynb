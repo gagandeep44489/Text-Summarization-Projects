{
 "cells": [
  {
   "cell_type": "code",
   "execution_count": 3,
   "id": "7c4cd0b9",
   "metadata": {},
   "outputs": [],
   "source": [
    "text = \"\"\"Lorem Ipsum is simply dummy text of the printing and typesetting industry. Lorem Ipsum has been the industry's standard dummy text ever since the 1500s, when an unknown printer took a galley of type and scrambled it to make a type specimen book. It has survived not only five centuries, but also the leap into electronic typesetting, remaining essentially unchanged. It was popularised in the 1960s with the release of Letraset sheets containing Lorem Ipsum passages, and more recently with desktop publishing software like Aldus PageMaker including versions of Lorem Ipsum.\"\"\""
   ]
  },
  {
   "cell_type": "code",
   "execution_count": 4,
   "id": "54b22f96",
   "metadata": {},
   "outputs": [
    {
     "data": {
      "text/plain": [
       "574"
      ]
     },
     "execution_count": 4,
     "metadata": {},
     "output_type": "execute_result"
    }
   ],
   "source": [
    "len(text)"
   ]
  },
  {
   "cell_type": "code",
   "execution_count": 5,
   "id": "940df8ee",
   "metadata": {},
   "outputs": [],
   "source": [
    "\n",
    "\n",
    "import spacy\n",
    "from spacy.lang.en.stop_words import STOP_WORDS\n",
    "from string import punctuation\n"
   ]
  },
  {
   "cell_type": "code",
   "execution_count": 6,
   "id": "8cedabd0",
   "metadata": {},
   "outputs": [],
   "source": [
    "nlp=spacy.load(\"en_core_web_sm\")"
   ]
  },
  {
   "cell_type": "code",
   "execution_count": 7,
   "id": "534ff784",
   "metadata": {},
   "outputs": [
    {
     "name": "stdout",
     "output_type": "stream",
     "text": [
      "Lorem Ipsum is simply dummy text of the printing and typesetting industry. Lorem Ipsum has been the industry's standard dummy text ever since the 1500s, when an unknown printer took a galley of type and scrambled it to make a type specimen book. It has survived not only five centuries, but also the leap into electronic typesetting, remaining essentially unchanged. It was popularised in the 1960s with the release of Letraset sheets containing Lorem Ipsum passages, and more recently with desktop publishing software like Aldus PageMaker including versions of Lorem Ipsum.\n"
     ]
    }
   ],
   "source": [
    "doc = nlp(text)\n",
    "print(doc)"
   ]
  },
  {
   "cell_type": "code",
   "execution_count": 8,
   "id": "555e7606",
   "metadata": {},
   "outputs": [],
   "source": [
    "tokens=[token.text.lower() for token in doc if not token.is_stop and not token.is_punct and token.text !='\\n']"
   ]
  },
  {
   "cell_type": "code",
   "execution_count": 9,
   "id": "0af9bea7",
   "metadata": {},
   "outputs": [
    {
     "data": {
      "text/plain": [
       "['lorem',\n",
       " 'ipsum',\n",
       " 'simply',\n",
       " 'dummy',\n",
       " 'text',\n",
       " 'printing',\n",
       " 'typesetting',\n",
       " 'industry',\n",
       " 'lorem',\n",
       " 'ipsum',\n",
       " 'industry',\n",
       " 'standard',\n",
       " 'dummy',\n",
       " 'text',\n",
       " '1500s',\n",
       " 'unknown',\n",
       " 'printer',\n",
       " 'took',\n",
       " 'galley',\n",
       " 'type',\n",
       " 'scrambled',\n",
       " 'type',\n",
       " 'specimen',\n",
       " 'book',\n",
       " 'survived',\n",
       " 'centuries',\n",
       " 'leap',\n",
       " 'electronic',\n",
       " 'typesetting',\n",
       " 'remaining',\n",
       " 'essentially',\n",
       " 'unchanged',\n",
       " 'popularised',\n",
       " '1960s',\n",
       " 'release',\n",
       " 'letraset',\n",
       " 'sheets',\n",
       " 'containing',\n",
       " 'lorem',\n",
       " 'ipsum',\n",
       " 'passages',\n",
       " 'recently',\n",
       " 'desktop',\n",
       " 'publishing',\n",
       " 'software',\n",
       " 'like',\n",
       " 'aldus',\n",
       " 'pagemaker',\n",
       " 'including',\n",
       " 'versions',\n",
       " 'lorem',\n",
       " 'ipsum']"
      ]
     },
     "execution_count": 9,
     "metadata": {},
     "output_type": "execute_result"
    }
   ],
   "source": [
    "tokens"
   ]
  },
  {
   "cell_type": "code",
   "execution_count": 9,
   "id": "61e71f10",
   "metadata": {},
   "outputs": [],
   "source": [
    "token1 = []\n",
    "stopwords = list(STOP_WORDS)\n",
    "allowed_pos = ['ADJ', 'PROPN', 'VERB', 'NOUN']\n",
    "for token in doc:\n",
    "    if token.text in stopwords or token.text in punctuation:\n",
    "        continue\n",
    "    if token.pos_ in allowed_pos:\n",
    "        token1.append(token.text)"
   ]
  },
  {
   "cell_type": "code",
   "execution_count": 11,
   "id": "72611665",
   "metadata": {},
   "outputs": [
    {
     "data": {
      "text/plain": [
       "['Lorem',\n",
       " 'Ipsum',\n",
       " 'dummy',\n",
       " 'text',\n",
       " 'printing',\n",
       " 'typesetting',\n",
       " 'industry',\n",
       " 'Lorem',\n",
       " 'Ipsum',\n",
       " 'industry',\n",
       " 'standard',\n",
       " 'dummy',\n",
       " 'text',\n",
       " '1500s',\n",
       " 'unknown',\n",
       " 'printer',\n",
       " 'took',\n",
       " 'galley',\n",
       " 'type',\n",
       " 'scrambled',\n",
       " 'type',\n",
       " 'specimen',\n",
       " 'book',\n",
       " 'survived',\n",
       " 'centuries',\n",
       " 'leap',\n",
       " 'electronic',\n",
       " 'typesetting',\n",
       " 'remaining',\n",
       " 'unchanged',\n",
       " 'popularised',\n",
       " '1960s',\n",
       " 'release',\n",
       " 'Letraset',\n",
       " 'sheets',\n",
       " 'containing',\n",
       " 'Lorem',\n",
       " 'Ipsum',\n",
       " 'passages',\n",
       " 'desktop',\n",
       " 'publishing',\n",
       " 'software',\n",
       " 'Aldus',\n",
       " 'PageMaker',\n",
       " 'including',\n",
       " 'versions',\n",
       " 'Lorem',\n",
       " 'Ipsum']"
      ]
     },
     "execution_count": 11,
     "metadata": {},
     "output_type": "execute_result"
    }
   ],
   "source": [
    "token1"
   ]
  },
  {
   "cell_type": "code",
   "execution_count": 10,
   "id": "6a5348f2",
   "metadata": {},
   "outputs": [],
   "source": [
    "from collections import Counter"
   ]
  },
  {
   "cell_type": "code",
   "execution_count": 11,
   "id": "e5fd5d16",
   "metadata": {},
   "outputs": [],
   "source": [
    "word_freq =Counter(tokens)"
   ]
  },
  {
   "cell_type": "code",
   "execution_count": 12,
   "id": "3f103620",
   "metadata": {},
   "outputs": [
    {
     "data": {
      "text/plain": [
       "Counter({'lorem': 4,\n",
       "         'ipsum': 4,\n",
       "         'dummy': 2,\n",
       "         'text': 2,\n",
       "         'typesetting': 2,\n",
       "         'industry': 2,\n",
       "         'type': 2,\n",
       "         'simply': 1,\n",
       "         'printing': 1,\n",
       "         'standard': 1,\n",
       "         '1500s': 1,\n",
       "         'unknown': 1,\n",
       "         'printer': 1,\n",
       "         'took': 1,\n",
       "         'galley': 1,\n",
       "         'scrambled': 1,\n",
       "         'specimen': 1,\n",
       "         'book': 1,\n",
       "         'survived': 1,\n",
       "         'centuries': 1,\n",
       "         'leap': 1,\n",
       "         'electronic': 1,\n",
       "         'remaining': 1,\n",
       "         'essentially': 1,\n",
       "         'unchanged': 1,\n",
       "         'popularised': 1,\n",
       "         '1960s': 1,\n",
       "         'release': 1,\n",
       "         'letraset': 1,\n",
       "         'sheets': 1,\n",
       "         'containing': 1,\n",
       "         'passages': 1,\n",
       "         'recently': 1,\n",
       "         'desktop': 1,\n",
       "         'publishing': 1,\n",
       "         'software': 1,\n",
       "         'like': 1,\n",
       "         'aldus': 1,\n",
       "         'pagemaker': 1,\n",
       "         'including': 1,\n",
       "         'versions': 1})"
      ]
     },
     "execution_count": 12,
     "metadata": {},
     "output_type": "execute_result"
    }
   ],
   "source": [
    "word_freq"
   ]
  },
  {
   "cell_type": "code",
   "execution_count": 13,
   "id": "7c8b18f2",
   "metadata": {},
   "outputs": [],
   "source": [
    "max_freq =max(word_freq.values())"
   ]
  },
  {
   "cell_type": "code",
   "execution_count": 14,
   "id": "1831c529",
   "metadata": {},
   "outputs": [
    {
     "data": {
      "text/plain": [
       "4"
      ]
     },
     "execution_count": 14,
     "metadata": {},
     "output_type": "execute_result"
    }
   ],
   "source": [
    "max_freq"
   ]
  },
  {
   "cell_type": "code",
   "execution_count": 15,
   "id": "76d108fd",
   "metadata": {},
   "outputs": [],
   "source": [
    "for word in word_freq.keys():\n",
    "    word_freq[word] = word_freq[word]/max_freq"
   ]
  },
  {
   "cell_type": "code",
   "execution_count": 16,
   "id": "a1e9291b",
   "metadata": {},
   "outputs": [
    {
     "data": {
      "text/plain": [
       "Counter({'lorem': 1.0,\n",
       "         'ipsum': 1.0,\n",
       "         'dummy': 0.5,\n",
       "         'text': 0.5,\n",
       "         'typesetting': 0.5,\n",
       "         'industry': 0.5,\n",
       "         'type': 0.5,\n",
       "         'simply': 0.25,\n",
       "         'printing': 0.25,\n",
       "         'standard': 0.25,\n",
       "         '1500s': 0.25,\n",
       "         'unknown': 0.25,\n",
       "         'printer': 0.25,\n",
       "         'took': 0.25,\n",
       "         'galley': 0.25,\n",
       "         'scrambled': 0.25,\n",
       "         'specimen': 0.25,\n",
       "         'book': 0.25,\n",
       "         'survived': 0.25,\n",
       "         'centuries': 0.25,\n",
       "         'leap': 0.25,\n",
       "         'electronic': 0.25,\n",
       "         'remaining': 0.25,\n",
       "         'essentially': 0.25,\n",
       "         'unchanged': 0.25,\n",
       "         'popularised': 0.25,\n",
       "         '1960s': 0.25,\n",
       "         'release': 0.25,\n",
       "         'letraset': 0.25,\n",
       "         'sheets': 0.25,\n",
       "         'containing': 0.25,\n",
       "         'passages': 0.25,\n",
       "         'recently': 0.25,\n",
       "         'desktop': 0.25,\n",
       "         'publishing': 0.25,\n",
       "         'software': 0.25,\n",
       "         'like': 0.25,\n",
       "         'aldus': 0.25,\n",
       "         'pagemaker': 0.25,\n",
       "         'including': 0.25,\n",
       "         'versions': 0.25})"
      ]
     },
     "execution_count": 16,
     "metadata": {},
     "output_type": "execute_result"
    }
   ],
   "source": [
    "word_freq"
   ]
  },
  {
   "cell_type": "code",
   "execution_count": 17,
   "id": "bdf8be69",
   "metadata": {},
   "outputs": [],
   "source": [
    "sent_token=[sent.text for sent in doc.sents]"
   ]
  },
  {
   "cell_type": "code",
   "execution_count": 18,
   "id": "821874e5",
   "metadata": {},
   "outputs": [
    {
     "data": {
      "text/plain": [
       "['Lorem Ipsum is simply dummy text of the printing and typesetting industry.',\n",
       " \"Lorem Ipsum has been the industry's standard dummy text ever since the 1500s, when an unknown printer took a galley of type and scrambled it to make a type specimen book.\",\n",
       " 'It has survived not only five centuries, but also the leap into electronic typesetting, remaining essentially unchanged.',\n",
       " 'It was popularised in the 1960s with the release of Letraset sheets containing Lorem Ipsum passages, and more recently with desktop publishing software like Aldus PageMaker including versions of Lorem Ipsum.']"
      ]
     },
     "execution_count": 18,
     "metadata": {},
     "output_type": "execute_result"
    }
   ],
   "source": [
    "sent_token"
   ]
  },
  {
   "cell_type": "code",
   "execution_count": 19,
   "id": "5177bc59",
   "metadata": {},
   "outputs": [
    {
     "name": "stdout",
     "output_type": "stream",
     "text": [
      "Lorem\n",
      "Ipsum\n",
      "is\n",
      "simply\n",
      "dummy\n",
      "text\n",
      "of\n",
      "the\n",
      "printing\n",
      "and\n",
      "typesetting\n",
      "industry.\n",
      "Lorem\n",
      "Ipsum\n",
      "has\n",
      "been\n",
      "the\n",
      "industry's\n",
      "standard\n",
      "dummy\n",
      "text\n",
      "ever\n",
      "since\n",
      "the\n",
      "1500s,\n",
      "when\n",
      "an\n",
      "unknown\n",
      "printer\n",
      "took\n",
      "a\n",
      "galley\n",
      "of\n",
      "type\n",
      "and\n",
      "scrambled\n",
      "it\n",
      "to\n",
      "make\n",
      "a\n",
      "type\n",
      "specimen\n",
      "book.\n",
      "It\n",
      "has\n",
      "survived\n",
      "not\n",
      "only\n",
      "five\n",
      "centuries,\n",
      "but\n",
      "also\n",
      "the\n",
      "leap\n",
      "into\n",
      "electronic\n",
      "typesetting,\n",
      "remaining\n",
      "essentially\n",
      "unchanged.\n",
      "It\n",
      "was\n",
      "popularised\n",
      "in\n",
      "the\n",
      "1960s\n",
      "with\n",
      "the\n",
      "release\n",
      "of\n",
      "Letraset\n",
      "sheets\n",
      "containing\n",
      "Lorem\n",
      "Ipsum\n",
      "passages,\n",
      "and\n",
      "more\n",
      "recently\n",
      "with\n",
      "desktop\n",
      "publishing\n",
      "software\n",
      "like\n",
      "Aldus\n",
      "PageMaker\n",
      "including\n",
      "versions\n",
      "of\n",
      "Lorem\n",
      "Ipsum.\n"
     ]
    }
   ],
   "source": [
    "sent_score = {}\n",
    "for sent in sent_token:\n",
    "    for word in sent.split():\n",
    "        if word.lower() in word_freq.keys():\n",
    "            if sent not in sent_score.keys():\n",
    "                sent_score[sent] = word_freq[word]\n",
    "            else:\n",
    "                sent_score[sent] +=word_freq[word]\n",
    "        print(word)"
   ]
  },
  {
   "cell_type": "code",
   "execution_count": 20,
   "id": "540b8393",
   "metadata": {},
   "outputs": [
    {
     "data": {
      "text/plain": [
       "{'Lorem Ipsum is simply dummy text of the printing and typesetting industry.': 2.0,\n",
       " \"Lorem Ipsum has been the industry's standard dummy text ever since the 1500s, when an unknown printer took a galley of type and scrambled it to make a type specimen book.\": 3.75,\n",
       " 'It has survived not only five centuries, but also the leap into electronic typesetting, remaining essentially unchanged.': 1.25,\n",
       " 'It was popularised in the 1960s with the release of Letraset sheets containing Lorem Ipsum passages, and more recently with desktop publishing software like Aldus PageMaker including versions of Lorem Ipsum.': 3.0}"
      ]
     },
     "execution_count": 20,
     "metadata": {},
     "output_type": "execute_result"
    }
   ],
   "source": [
    "sent_score"
   ]
  },
  {
   "cell_type": "code",
   "execution_count": 21,
   "id": "8f0e4500",
   "metadata": {},
   "outputs": [],
   "source": [
    "import pandas as pd"
   ]
  },
  {
   "cell_type": "code",
   "execution_count": 22,
   "id": "70a6882c",
   "metadata": {},
   "outputs": [
    {
     "data": {
      "text/html": [
       "<div>\n",
       "<style scoped>\n",
       "    .dataframe tbody tr th:only-of-type {\n",
       "        vertical-align: middle;\n",
       "    }\n",
       "\n",
       "    .dataframe tbody tr th {\n",
       "        vertical-align: top;\n",
       "    }\n",
       "\n",
       "    .dataframe thead th {\n",
       "        text-align: right;\n",
       "    }\n",
       "</style>\n",
       "<table border=\"1\" class=\"dataframe\">\n",
       "  <thead>\n",
       "    <tr style=\"text-align: right;\">\n",
       "      <th></th>\n",
       "      <th>Sentence</th>\n",
       "      <th>Score</th>\n",
       "    </tr>\n",
       "  </thead>\n",
       "  <tbody>\n",
       "    <tr>\n",
       "      <th>0</th>\n",
       "      <td>Lorem Ipsum is simply dummy text of the printi...</td>\n",
       "      <td>2.00</td>\n",
       "    </tr>\n",
       "    <tr>\n",
       "      <th>1</th>\n",
       "      <td>Lorem Ipsum has been the industry's standard d...</td>\n",
       "      <td>3.75</td>\n",
       "    </tr>\n",
       "    <tr>\n",
       "      <th>2</th>\n",
       "      <td>It has survived not only five centuries, but a...</td>\n",
       "      <td>1.25</td>\n",
       "    </tr>\n",
       "    <tr>\n",
       "      <th>3</th>\n",
       "      <td>It was popularised in the 1960s with the relea...</td>\n",
       "      <td>3.00</td>\n",
       "    </tr>\n",
       "  </tbody>\n",
       "</table>\n",
       "</div>"
      ],
      "text/plain": [
       "                                            Sentence  Score\n",
       "0  Lorem Ipsum is simply dummy text of the printi...   2.00\n",
       "1  Lorem Ipsum has been the industry's standard d...   3.75\n",
       "2  It has survived not only five centuries, but a...   1.25\n",
       "3  It was popularised in the 1960s with the relea...   3.00"
      ]
     },
     "execution_count": 22,
     "metadata": {},
     "output_type": "execute_result"
    }
   ],
   "source": [
    "pd.DataFrame(list(sent_score.items()),columns=['Sentence',\"Score\"])"
   ]
  },
  {
   "cell_type": "code",
   "execution_count": 23,
   "id": "e6eb1339",
   "metadata": {},
   "outputs": [],
   "source": [
    "\n",
    "from heapq import nlargest"
   ]
  },
  {
   "cell_type": "code",
   "execution_count": 24,
   "id": "db59eb03",
   "metadata": {},
   "outputs": [],
   "source": [
    "num_sentences = 3\n",
    "n = nlargest(num_sentences,sent_score,key=sent_score.get)"
   ]
  },
  {
   "cell_type": "code",
   "execution_count": 25,
   "id": "854ec371",
   "metadata": {},
   "outputs": [
    {
     "data": {
      "text/plain": [
       "\"Lorem Ipsum has been the industry's standard dummy text ever since the 1500s, when an unknown printer took a galley of type and scrambled it to make a type specimen book. It was popularised in the 1960s with the release of Letraset sheets containing Lorem Ipsum passages, and more recently with desktop publishing software like Aldus PageMaker including versions of Lorem Ipsum. Lorem Ipsum is simply dummy text of the printing and typesetting industry.\""
      ]
     },
     "execution_count": 25,
     "metadata": {},
     "output_type": "execute_result"
    }
   ],
   "source": [
    "\" \".join(n)"
   ]
  },
  {
   "cell_type": "code",
   "execution_count": 26,
   "id": "0bd34a7f",
   "metadata": {},
   "outputs": [],
   "source": [
    "from transformers import pipeline\n"
   ]
  },
  {
   "cell_type": "code",
   "execution_count": 29,
   "id": "0efdd8dc",
   "metadata": {},
   "outputs": [
    {
     "ename": "ValueError",
     "evalue": "Pipeline cannot infer suitable model classes from t5-base",
     "output_type": "error",
     "traceback": [
      "\u001b[1;31m---------------------------------------------------------------------------\u001b[0m",
      "\u001b[1;31mValueError\u001b[0m                                Traceback (most recent call last)",
      "Cell \u001b[1;32mIn[29], line 1\u001b[0m\n\u001b[1;32m----> 1\u001b[0m summarization_pipeline \u001b[38;5;241m=\u001b[39m pipeline(\u001b[38;5;124m\"\u001b[39m\u001b[38;5;124msummarization\u001b[39m\u001b[38;5;124m\"\u001b[39m, model\u001b[38;5;241m=\u001b[39m\u001b[38;5;124m'\u001b[39m\u001b[38;5;124mt5-base\u001b[39m\u001b[38;5;124m'\u001b[39m, tokenizer\u001b[38;5;241m=\u001b[39m\u001b[38;5;124m'\u001b[39m\u001b[38;5;124mt5-base\u001b[39m\u001b[38;5;124m'\u001b[39m, framework\u001b[38;5;241m=\u001b[39m\u001b[38;5;124m'\u001b[39m\u001b[38;5;124mpt\u001b[39m\u001b[38;5;124m'\u001b[39m)\n",
      "File \u001b[1;32m~\\anaconda3\\Lib\\site-packages\\transformers\\pipelines\\__init__.py:905\u001b[0m, in \u001b[0;36mpipeline\u001b[1;34m(task, model, config, tokenizer, feature_extractor, image_processor, framework, revision, use_fast, token, device, device_map, torch_dtype, trust_remote_code, model_kwargs, pipeline_class, **kwargs)\u001b[0m\n\u001b[0;32m    903\u001b[0m \u001b[38;5;28;01mif\u001b[39;00m \u001b[38;5;28misinstance\u001b[39m(model, \u001b[38;5;28mstr\u001b[39m) \u001b[38;5;129;01mor\u001b[39;00m framework \u001b[38;5;129;01mis\u001b[39;00m \u001b[38;5;28;01mNone\u001b[39;00m:\n\u001b[0;32m    904\u001b[0m     model_classes \u001b[38;5;241m=\u001b[39m {\u001b[38;5;124m\"\u001b[39m\u001b[38;5;124mtf\u001b[39m\u001b[38;5;124m\"\u001b[39m: targeted_task[\u001b[38;5;124m\"\u001b[39m\u001b[38;5;124mtf\u001b[39m\u001b[38;5;124m\"\u001b[39m], \u001b[38;5;124m\"\u001b[39m\u001b[38;5;124mpt\u001b[39m\u001b[38;5;124m\"\u001b[39m: targeted_task[\u001b[38;5;124m\"\u001b[39m\u001b[38;5;124mpt\u001b[39m\u001b[38;5;124m\"\u001b[39m]}\n\u001b[1;32m--> 905\u001b[0m     framework, model \u001b[38;5;241m=\u001b[39m infer_framework_load_model(\n\u001b[0;32m    906\u001b[0m         model,\n\u001b[0;32m    907\u001b[0m         model_classes\u001b[38;5;241m=\u001b[39mmodel_classes,\n\u001b[0;32m    908\u001b[0m         config\u001b[38;5;241m=\u001b[39mconfig,\n\u001b[0;32m    909\u001b[0m         framework\u001b[38;5;241m=\u001b[39mframework,\n\u001b[0;32m    910\u001b[0m         task\u001b[38;5;241m=\u001b[39mtask,\n\u001b[0;32m    911\u001b[0m         \u001b[38;5;241m*\u001b[39m\u001b[38;5;241m*\u001b[39mhub_kwargs,\n\u001b[0;32m    912\u001b[0m         \u001b[38;5;241m*\u001b[39m\u001b[38;5;241m*\u001b[39mmodel_kwargs,\n\u001b[0;32m    913\u001b[0m     )\n\u001b[0;32m    915\u001b[0m model_config \u001b[38;5;241m=\u001b[39m model\u001b[38;5;241m.\u001b[39mconfig\n\u001b[0;32m    916\u001b[0m hub_kwargs[\u001b[38;5;124m\"\u001b[39m\u001b[38;5;124m_commit_hash\u001b[39m\u001b[38;5;124m\"\u001b[39m] \u001b[38;5;241m=\u001b[39m model\u001b[38;5;241m.\u001b[39mconfig\u001b[38;5;241m.\u001b[39m_commit_hash\n",
      "File \u001b[1;32m~\\anaconda3\\Lib\\site-packages\\transformers\\pipelines\\base.py:260\u001b[0m, in \u001b[0;36minfer_framework_load_model\u001b[1;34m(model, config, model_classes, task, framework, **model_kwargs)\u001b[0m\n\u001b[0;32m    257\u001b[0m     class_tuple \u001b[38;5;241m=\u001b[39m class_tuple \u001b[38;5;241m+\u001b[39m \u001b[38;5;28mtuple\u001b[39m(classes)\n\u001b[0;32m    259\u001b[0m \u001b[38;5;28;01mif\u001b[39;00m \u001b[38;5;28mlen\u001b[39m(class_tuple) \u001b[38;5;241m==\u001b[39m \u001b[38;5;241m0\u001b[39m:\n\u001b[1;32m--> 260\u001b[0m     \u001b[38;5;28;01mraise\u001b[39;00m \u001b[38;5;167;01mValueError\u001b[39;00m(\u001b[38;5;124mf\u001b[39m\u001b[38;5;124m\"\u001b[39m\u001b[38;5;124mPipeline cannot infer suitable model classes from \u001b[39m\u001b[38;5;132;01m{\u001b[39;00mmodel\u001b[38;5;132;01m}\u001b[39;00m\u001b[38;5;124m\"\u001b[39m)\n\u001b[0;32m    262\u001b[0m all_traceback \u001b[38;5;241m=\u001b[39m {}\n\u001b[0;32m    263\u001b[0m \u001b[38;5;28;01mfor\u001b[39;00m model_class \u001b[38;5;129;01min\u001b[39;00m class_tuple:\n",
      "\u001b[1;31mValueError\u001b[0m: Pipeline cannot infer suitable model classes from t5-base"
     ]
    }
   ],
   "source": [
    "summarization_pipeline = pipeline(\"summarization\", model='t5-base', tokenizer='t5-base', framework='pt')"
   ]
  },
  {
   "cell_type": "code",
   "execution_count": null,
   "id": "2c765f87",
   "metadata": {},
   "outputs": [],
   "source": []
  }
 ],
 "metadata": {
  "kernelspec": {
   "display_name": "Python 3 (ipykernel)",
   "language": "python",
   "name": "python3"
  },
  "language_info": {
   "codemirror_mode": {
    "name": "ipython",
    "version": 3
   },
   "file_extension": ".py",
   "mimetype": "text/x-python",
   "name": "python",
   "nbconvert_exporter": "python",
   "pygments_lexer": "ipython3",
   "version": "3.11.8"
  }
 },
 "nbformat": 4,
 "nbformat_minor": 5
}
